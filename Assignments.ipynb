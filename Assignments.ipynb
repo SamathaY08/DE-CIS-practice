{
 "cells": [
  {
   "cell_type": "markdown",
   "id": "c4c8145f",
   "metadata": {},
   "source": [
    "### Write a program to print full names from two lists, one containing first names and second containing last names"
   ]
  },
  {
   "cell_type": "code",
   "execution_count": 1,
   "id": "ee149b94",
   "metadata": {},
   "outputs": [
    {
     "name": "stdout",
     "output_type": "stream",
     "text": [
      "['Samatha Yeddula', 'Vignesh Ravichandran', 'Mouni Yerra']\n"
     ]
    }
   ],
   "source": [
    "firstname=[\"Samatha\",\"Mouni\",\"Vignesh\"]\n",
    "lastname=[\"Yeddula\",\"Yerra\",\"Ravichandran\"]\n",
    "Fullname=[]\n",
    "if len(firstname)==len(lastname):\n",
    "    for i in range(len(firstname)):\n",
    "        Fullname.insert(1,(firstname[i]+\" \"+lastname[i]))\n",
    "    print(Fullname)\n",
    "elif len(firstname)>len(lastname):\n",
    "    print(\"Missing Lastnames\")\n",
    "else:\n",
    "    print(\"Missing Firstnames\")\n"
   ]
  },
  {
   "cell_type": "markdown",
   "id": "9649710b",
   "metadata": {},
   "source": [
    "### Write a program to print previous month, previous quarter, future month, and current quarter in form of list"
   ]
  },
  {
   "cell_type": "code",
   "execution_count": 2,
   "id": "3b3a4e13",
   "metadata": {},
   "outputs": [
    {
     "name": "stdout",
     "output_type": "stream",
     "text": [
      "202305\n",
      "Q2\n",
      "{'prev_month': '202304', 'future_month': '202404', 'current Quarter': 'Q2_2023', 'previous_quater': 'Q1_2023'}\n"
     ]
    }
   ],
   "source": [
    "def getfuturemonth(y,mm):\n",
    "    if mm==1:\n",
    "        Previousmonth =12\n",
    "        future_mon=str(y+1)+str(Previousmonth)\n",
    "        return future_mon\n",
    "    elif mm<=10:\n",
    "        Previousmonth=mm-1\n",
    "        future_mon=str(y+1)+'0'+str(Previousmonth)\n",
    "        return future_mon\n",
    "    else:\n",
    "        Previousmonth=mm-1\n",
    "        future_mon=str(y+1)+str(Previousmonth)\n",
    "        return future_mon\n",
    "    \n",
    "def getpreviousmonth(y,mm):\n",
    "    if mm==1:\n",
    "        Previousmonth =12\n",
    "        prev_mon=str(y-1)+str(Previousmonth)\n",
    "        return prev_mon\n",
    "    elif mm<=10:\n",
    "        Previousmonth=mm-1\n",
    "        prev_mon=str(y)+'0'+str(Previousmonth)\n",
    "        return prev_mon\n",
    "    else:\n",
    "        Previousmonth=mm-1\n",
    "        prev_mon=str(y)+str(Previousmonth)\n",
    "        return prev_mon\n",
    "\n",
    "def currentquarter(Q,y):\n",
    "    currentquarter=Q+'_'+str(y)\n",
    "    return currentquarter\n",
    "    \n",
    "\n",
    "def getpreviousquarter(Q,y):\n",
    "    q=int(Q[1])\n",
    "    if q in range(2,5):\n",
    "        prevquanum= q-1\n",
    "        previousquarter='Q'+str(prevquanum)+'_'+str(y)\n",
    "        return previousquarter\n",
    "    else:\n",
    "        prevquanum=4\n",
    "        previousquarter='Q'+str(prevquanum)+'_'+str(y-1)\n",
    "        return previousquarter\n",
    "    \n",
    "def example(currdate,q):\n",
    "    n=len(currdate)\n",
    "    mm=int(currdate[n-2:])\n",
    "    y=int(currdate[:n-2])\n",
    "    Q=q\n",
    "    prev_month=getpreviousmonth(y,mm)\n",
    "    future_mon=getfuturemonth(y,mm)\n",
    "    curr_quarter=currentquarter(Q,y)\n",
    "    prev_quater=getpreviousquarter(Q,y)\n",
    "    \n",
    "\n",
    "    dict1=dict({'prev_month':prev_month,'future_month':future_mon,'current Quarter':curr_quarter,'previous_quater':prev_quater})\n",
    "    return dict1\n",
    "def main():\n",
    "    curr_date=input()\n",
    "    quater=input()\n",
    "    print(example(curr_date,quater))\n",
    "\n",
    "main()"
   ]
  },
  {
   "cell_type": "code",
   "execution_count": 3,
   "id": "9302b11c",
   "metadata": {},
   "outputs": [
    {
     "name": "stdout",
     "output_type": "stream",
     "text": [
      "202211\n",
      "Q4\n",
      "{'prev_month': '202210', 'future_month': '202310', 'current Quarter': 'Q4_2022', 'previous_quater': 'Q3_2022'}\n"
     ]
    }
   ],
   "source": [
    "main()"
   ]
  },
  {
   "cell_type": "code",
   "execution_count": 4,
   "id": "7d06229d",
   "metadata": {},
   "outputs": [
    {
     "name": "stdout",
     "output_type": "stream",
     "text": [
      "202201\n",
      "Q1\n",
      "{'prev_month': '202112', 'future_month': '202312', 'current Quarter': 'Q1_2022', 'previous_quater': 'Q4_2021'}\n"
     ]
    }
   ],
   "source": [
    "main()"
   ]
  }
 ],
 "metadata": {
  "kernelspec": {
   "display_name": "Python 3 (ipykernel)",
   "language": "python",
   "name": "python3"
  },
  "language_info": {
   "codemirror_mode": {
    "name": "ipython",
    "version": 3
   },
   "file_extension": ".py",
   "mimetype": "text/x-python",
   "name": "python",
   "nbconvert_exporter": "python",
   "pygments_lexer": "ipython3",
   "version": "3.9.13"
  }
 },
 "nbformat": 4,
 "nbformat_minor": 5
}
